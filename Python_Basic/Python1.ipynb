{
 "cells": [
  {
   "cell_type": "markdown",
   "id": "01ccd48c",
   "metadata": {},
   "source": [
    "# Python for Big Data\n",
    "\n",
    "1. Variables\n",
    "2. String \n",
    "3. Function print\n",
    "4. Booleanos y Condicionales\n",
    "5. Loops\n",
    "6. Funciones\n",
    "7. Manejo de Excepciones"
   ]
  },
  {
   "cell_type": "markdown",
   "id": "b40e8f12",
   "metadata": {},
   "source": [
    "# 1. Variables"
   ]
  },
  {
   "cell_type": "code",
   "execution_count": null,
   "id": "ed0de627",
   "metadata": {},
   "outputs": [
    {
     "ename": "NameError",
     "evalue": "name 'resultado' is not defined",
     "output_type": "error",
     "traceback": [
      "\u001b[31m---------------------------------------------------------------------------\u001b[39m",
      "\u001b[31mNameError\u001b[39m                                 Traceback (most recent call last)",
      "\u001b[36mCell\u001b[39m\u001b[36m \u001b[39m\u001b[32mIn[1]\u001b[39m\u001b[32m, line 2\u001b[39m\n\u001b[32m      1\u001b[39m \u001b[38;5;66;03m# Variables \u001b[39;00m\n\u001b[32m----> \u001b[39m\u001b[32m2\u001b[39m \u001b[43mresultado\u001b[49m\n",
      "\u001b[31mNameError\u001b[39m: name 'resultado' is not defined"
     ]
    }
   ],
   "source": [
    "# Variables \n",
    "resultado"
   ]
  },
  {
   "cell_type": "code",
   "execution_count": 1,
   "id": "e49bf945",
   "metadata": {},
   "outputs": [],
   "source": [
    "# Declarando Variables \n",
    "monto_deuda =1000\n",
    "moneda = \"Soles\""
   ]
  },
  {
   "cell_type": "code",
   "execution_count": 2,
   "id": "f588ae95",
   "metadata": {},
   "outputs": [
    {
     "data": {
      "text/plain": [
       "1000"
      ]
     },
     "execution_count": 2,
     "metadata": {},
     "output_type": "execute_result"
    }
   ],
   "source": [
    "#mostrar variable\n",
    "monto_deuda"
   ]
  },
  {
   "cell_type": "code",
   "execution_count": 3,
   "id": "8f87c1fd",
   "metadata": {},
   "outputs": [
    {
     "data": {
      "text/plain": [
       "'Soles'"
      ]
     },
     "execution_count": 3,
     "metadata": {},
     "output_type": "execute_result"
    }
   ],
   "source": [
    "moneda"
   ]
  },
  {
   "cell_type": "code",
   "execution_count": null,
   "id": "16cf97fb",
   "metadata": {},
   "outputs": [],
   "source": [
    "# Interactuar con el usuario\n",
    "monto_interes = int(input(\"Ingrese el monto de interés: \"))"
   ]
  },
  {
   "cell_type": "code",
   "execution_count": 4,
   "id": "2fe115cc",
   "metadata": {},
   "outputs": [
    {
     "data": {
      "text/plain": [
       "4000"
      ]
     },
     "execution_count": 4,
     "metadata": {},
     "output_type": "execute_result"
    }
   ],
   "source": [
    "# Operando con variables \n",
    "resultado = monto_deuda*4\n",
    "resultado"
   ]
  },
  {
   "cell_type": "code",
   "execution_count": 5,
   "id": "01b3734a",
   "metadata": {},
   "outputs": [
    {
     "data": {
      "text/plain": [
       "int"
      ]
     },
     "execution_count": 5,
     "metadata": {},
     "output_type": "execute_result"
    }
   ],
   "source": [
    "# Tipo de variable\n",
    "type(monto_deuda)"
   ]
  },
  {
   "cell_type": "code",
   "execution_count": 6,
   "id": "325846cc",
   "metadata": {},
   "outputs": [
    {
     "data": {
      "text/plain": [
       "str"
      ]
     },
     "execution_count": 6,
     "metadata": {},
     "output_type": "execute_result"
    }
   ],
   "source": [
    "type(moneda)"
   ]
  },
  {
   "cell_type": "code",
   "execution_count": 7,
   "id": "ab7de1d1",
   "metadata": {},
   "outputs": [
    {
     "data": {
      "text/plain": [
       "16000"
      ]
     },
     "execution_count": 7,
     "metadata": {},
     "output_type": "execute_result"
    }
   ],
   "source": [
    "# Operar variables \n",
    "4*resultado"
   ]
  },
  {
   "cell_type": "code",
   "execution_count": 8,
   "id": "21e45194",
   "metadata": {},
   "outputs": [
    {
     "data": {
      "text/plain": [
       "'1000'"
      ]
     },
     "execution_count": 8,
     "metadata": {},
     "output_type": "execute_result"
    }
   ],
   "source": [
    "# Cambiando tipo variable \n",
    "str_monto_deuda = str(monto_deuda)\n",
    "str_monto_deuda"
   ]
  },
  {
   "cell_type": "code",
   "execution_count": 9,
   "id": "ffeee595",
   "metadata": {},
   "outputs": [
    {
     "data": {
      "text/plain": [
       "1000"
      ]
     },
     "execution_count": 9,
     "metadata": {},
     "output_type": "execute_result"
    }
   ],
   "source": [
    "int_monto_deuda = int(str_monto_deuda)\n",
    "int_monto_deuda"
   ]
  },
  {
   "cell_type": "markdown",
   "id": "743cf256",
   "metadata": {},
   "source": [
    "# 2. realizando string"
   ]
  },
  {
   "cell_type": "code",
   "execution_count": 10,
   "id": "db0d92f5",
   "metadata": {},
   "outputs": [
    {
     "data": {
      "text/plain": [
       "'Hola'"
      ]
     },
     "execution_count": 10,
     "metadata": {},
     "output_type": "execute_result"
    }
   ],
   "source": [
    "# Concatenar \n",
    "'Ho'+'la'"
   ]
  },
  {
   "cell_type": "code",
   "execution_count": 13,
   "id": "9852fa45",
   "metadata": {},
   "outputs": [],
   "source": [
    "# Comillas simples o dobles \n",
    "text_1 = \"Mi primer mensaje\"\n",
    "text_2 = 'Mi segundo mensaje'"
   ]
  },
  {
   "cell_type": "code",
   "execution_count": 14,
   "id": "8edb32a6",
   "metadata": {},
   "outputs": [
    {
     "data": {
      "text/plain": [
       "'Mi primer mensaje'"
      ]
     },
     "execution_count": 14,
     "metadata": {},
     "output_type": "execute_result"
    }
   ],
   "source": [
    "text_1"
   ]
  },
  {
   "cell_type": "code",
   "execution_count": 15,
   "id": "afd091ea",
   "metadata": {},
   "outputs": [
    {
     "data": {
      "text/plain": [
       "'Mi segundo mensaje'"
      ]
     },
     "execution_count": 15,
     "metadata": {},
     "output_type": "execute_result"
    }
   ],
   "source": [
    "text_2"
   ]
  },
  {
   "cell_type": "code",
   "execution_count": 16,
   "id": "f0644ea8",
   "metadata": {},
   "outputs": [],
   "source": [
    "# Comillas triples\n",
    "consulta = \"\"\"\n",
    "SELECT * FROM USERS\n",
    "WHERE ID = 8\n",
    "GROUP BY NAME \n",
    "\"\"\""
   ]
  },
  {
   "cell_type": "code",
   "execution_count": 17,
   "id": "380527d2",
   "metadata": {},
   "outputs": [
    {
     "data": {
      "text/plain": [
       "'\\nSELECT * FROM USERS\\nWHERE ID = 8\\nGROUP BY NAME \\n'"
      ]
     },
     "execution_count": 17,
     "metadata": {},
     "output_type": "execute_result"
    }
   ],
   "source": [
    "consulta"
   ]
  },
  {
   "cell_type": "code",
   "execution_count": 18,
   "id": "ce312312",
   "metadata": {},
   "outputs": [],
   "source": [
    "# Operaciones con string\n",
    "cadena_1 = 'hola mundo'\n",
    "cadena_2 = '5'\n",
    "cadena_3 = 'cinco'"
   ]
  },
  {
   "cell_type": "code",
   "execution_count": 19,
   "id": "eeab11b0",
   "metadata": {},
   "outputs": [
    {
     "data": {
      "text/plain": [
       "'Hola mundo'"
      ]
     },
     "execution_count": 19,
     "metadata": {},
     "output_type": "execute_result"
    }
   ],
   "source": [
    "cadena_1.capitalize()"
   ]
  },
  {
   "cell_type": "code",
   "execution_count": 20,
   "id": "ef5ce555",
   "metadata": {},
   "outputs": [
    {
     "data": {
      "text/plain": [
       "'CINCO'"
      ]
     },
     "execution_count": 20,
     "metadata": {},
     "output_type": "execute_result"
    }
   ],
   "source": [
    "cadena_3.upper()"
   ]
  },
  {
   "cell_type": "code",
   "execution_count": 21,
   "id": "44d775ea",
   "metadata": {},
   "outputs": [
    {
     "data": {
      "text/plain": [
       "'cinco'"
      ]
     },
     "execution_count": 21,
     "metadata": {},
     "output_type": "execute_result"
    }
   ],
   "source": [
    "cadena_3.lower()"
   ]
  },
  {
   "cell_type": "code",
   "execution_count": 22,
   "id": "d9b1ec0e",
   "metadata": {},
   "outputs": [
    {
     "data": {
      "text/plain": [
       "'Hola Mundo'"
      ]
     },
     "execution_count": 22,
     "metadata": {},
     "output_type": "execute_result"
    }
   ],
   "source": [
    "cadena_1.title()"
   ]
  },
  {
   "cell_type": "code",
   "execution_count": 23,
   "id": "091d8f35",
   "metadata": {},
   "outputs": [
    {
     "data": {
      "text/plain": [
       "['hola', 'mundo']"
      ]
     },
     "execution_count": 23,
     "metadata": {},
     "output_type": "execute_result"
    }
   ],
   "source": [
    "cadena_1.split()"
   ]
  },
  {
   "cell_type": "code",
   "execution_count": null,
   "id": "2181a262",
   "metadata": {},
   "outputs": [
    {
     "data": {
      "text/plain": [
       "2"
      ]
     },
     "execution_count": 24,
     "metadata": {},
     "output_type": "execute_result"
    }
   ],
   "source": [
    "# Dividir string\n",
    "cadena_1.count('o')"
   ]
  },
  {
   "cell_type": "code",
   "execution_count": 25,
   "id": "abef82f1",
   "metadata": {},
   "outputs": [
    {
     "data": {
      "text/plain": [
       "10"
      ]
     },
     "execution_count": 25,
     "metadata": {},
     "output_type": "execute_result"
    }
   ],
   "source": [
    "# Longitud de la cadena\n",
    "len(cadena_1)"
   ]
  },
  {
   "cell_type": "code",
   "execution_count": 26,
   "id": "b1663144",
   "metadata": {},
   "outputs": [
    {
     "data": {
      "text/plain": [
       "['hola ', 'undo']"
      ]
     },
     "execution_count": 26,
     "metadata": {},
     "output_type": "execute_result"
    }
   ],
   "source": [
    "# Quitar letra string\n",
    "cadena_1.split('m')"
   ]
  },
  {
   "cell_type": "code",
   "execution_count": 27,
   "id": "1d48a0c8",
   "metadata": {},
   "outputs": [
    {
     "data": {
      "text/plain": [
       "'(Hola Mundo),'"
      ]
     },
     "execution_count": 27,
     "metadata": {},
     "output_type": "execute_result"
    }
   ],
   "source": [
    "# Limpiando extremos de un string\n",
    "cadena_4 ='(Hola Mundo), '\n",
    "cadena_4.strip()"
   ]
  },
  {
   "cell_type": "code",
   "execution_count": 28,
   "id": "69930c6f",
   "metadata": {},
   "outputs": [
    {
     "data": {
      "text/plain": [
       "'Hola Mundo'"
      ]
     },
     "execution_count": 28,
     "metadata": {},
     "output_type": "execute_result"
    }
   ],
   "source": [
    "cadena_4.strip('(), ')"
   ]
  },
  {
   "cell_type": "code",
   "execution_count": 29,
   "id": "518a01bf",
   "metadata": {},
   "outputs": [
    {
     "data": {
      "text/plain": [
       "'Hi Mundo'"
      ]
     },
     "execution_count": 29,
     "metadata": {},
     "output_type": "execute_result"
    }
   ],
   "source": [
    "# Reemplazar string\n",
    "cadena_5 = 'Hola Mundo'\n",
    "cadena_5.replace('Hola', 'Hi')"
   ]
  }
 ],
 "metadata": {
  "kernelspec": {
   "display_name": "myenv",
   "language": "python",
   "name": "python3"
  },
  "language_info": {
   "codemirror_mode": {
    "name": "ipython",
    "version": 3
   },
   "file_extension": ".py",
   "mimetype": "text/x-python",
   "name": "python",
   "nbconvert_exporter": "python",
   "pygments_lexer": "ipython3",
   "version": "3.13.7"
  }
 },
 "nbformat": 4,
 "nbformat_minor": 5
}
