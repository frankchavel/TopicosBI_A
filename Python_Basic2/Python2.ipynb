{
 "cells": [
  {
   "cell_type": "markdown",
   "id": "b927edea",
   "metadata": {},
   "source": [
    "# Python using Panda and Numpy for Big Data\n",
    "\n",
    "Instala las librerias Pandas, Numpy para trabajar con datos masivos."
   ]
  }
 ],
 "metadata": {
  "language_info": {
   "name": "python"
  }
 },
 "nbformat": 4,
 "nbformat_minor": 5
}
